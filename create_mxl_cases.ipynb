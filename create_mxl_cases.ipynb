{
 "cells": [
  {
   "cell_type": "code",
   "execution_count": 9,
   "metadata": {},
   "outputs": [],
   "source": [
    "#%matplotlib ipympl\n",
    "\n",
    "from help_code import Fire_case\n",
    "\n",
    "ls2d_data_path = '/home/scratch1/bart/LS2D_EWED'"
   ]
  },
  {
   "cell_type": "code",
   "execution_count": null,
   "metadata": {},
   "outputs": [
    {
     "name": "stdout",
     "output_type": "stream",
     "text": [
      "Found tuned case for \"tortosa\", loading...\n",
      "Found tuned case for \"katsimidi\", loading...\n",
      "Found tuned case for \"mequinensa\", loading...\n",
      "Found tuned case for \"vilanova-da-meia\", loading...\n",
      "Found tuned case for \"varnavas\", loading...\n",
      "Found tuned case for \"la-figuera\", loading...\n",
      "Found tuned case for \"orista\", loading...\n",
      "Found tuned case for \"pont-de-vilomara\", loading...\n",
      "No tuning for \"santa-coloma\", creating new one...\n",
      "\u001b[94m\u001b[1mDownloading ERA5 for period: 2024-05-28 08:00:00 to 2024-05-28 23:00:00\u001b[0m \u001b[92m[10-07: 09:56]\u001b[0m\n",
      " - Found 2024-05-28 00:00:00 - model_an local\n",
      " - Found 2024-05-28 00:00:00 - pressure_an local\n",
      " - Found 2024-05-28 00:00:00 - surface_an local\n",
      "\u001b[94m\u001b[1mDownloading ERA5 for period: 2024-06-29 11:00:00 to 2024-06-29 23:00:00\u001b[0m \u001b[92m[10-07: 09:56]\u001b[0m\n",
      " - Found 2024-06-29 00:00:00 - model_an local\n",
      " - Found 2024-06-29 00:00:00 - pressure_an local\n",
      " - Found 2024-06-29 00:00:00 - surface_an local\n",
      "\u001b[94m\u001b[1mDownloading ERA5 for period: 2024-07-07 15:00:00 to 2024-07-07 23:00:00\u001b[0m \u001b[92m[10-07: 09:56]\u001b[0m\n",
      " - Found 2024-07-07 00:00:00 - model_an local\n",
      " - Found 2024-07-07 00:00:00 - pressure_an local\n",
      " - Found 2024-07-07 00:00:00 - surface_an local\n",
      "\u001b[94m\u001b[1mDownloading ERA5 for period: 2024-08-09 13:00:00 to 2024-08-09 23:00:00\u001b[0m \u001b[92m[10-07: 09:56]\u001b[0m\n",
      " - Found 2024-08-09 00:00:00 - model_an local\n",
      " - Found 2024-08-09 00:00:00 - pressure_an local\n",
      " - Found 2024-08-09 00:00:00 - surface_an local\n",
      "\u001b[94m\u001b[1mDownloading ERA5 for period: 2024-08-11 12:00:00 to 2024-08-11 23:00:00\u001b[0m \u001b[92m[10-07: 09:56]\u001b[0m\n",
      " - Found 2024-08-11 00:00:00 - model_an local\n",
      " - Found 2024-08-11 00:00:00 - pressure_an local\n",
      " - Found 2024-08-11 00:00:00 - surface_an local\n",
      "\u001b[94m\u001b[1mDownloading ERA5 for period: 2024-07-28 13:00:00 to 2024-07-28 23:00:00\u001b[0m \u001b[92m[10-07: 09:56]\u001b[0m\n",
      " - Found 2024-07-28 00:00:00 - model_an local\n",
      " - Found 2024-07-28 00:00:00 - pressure_an local\n",
      " - Found 2024-07-28 00:00:00 - surface_an local\n",
      "\u001b[94m\u001b[1mDownloading ERA5 for period: 2023-10-05 10:00:00 to 2023-10-05 23:00:00\u001b[0m \u001b[92m[10-07: 09:56]\u001b[0m\n",
      " - Found 2023-10-05 00:00:00 - model_an local\n",
      " - Found 2023-10-05 00:00:00 - pressure_an local\n",
      " - Found 2023-10-05 00:00:00 - surface_an local\n",
      "\u001b[94m\u001b[1mDownloading ERA5 for period: 2022-07-07 11:00:00 to 2022-07-07 23:00:00\u001b[0m \u001b[92m[10-07: 09:56]\u001b[0m\n",
      " - Found 2022-07-07 00:00:00 - model_an local\n",
      " - Found 2022-07-07 00:00:00 - pressure_an local\n",
      " - Found 2022-07-07 00:00:00 - surface_an local\n",
      "\u001b[94m\u001b[1mDownloading ERA5 for period: 2025-06-17 17:00:00 to 2025-06-17 23:00:00\u001b[0m \u001b[92m[10-07: 09:56]\u001b[0m\n",
      " - Found 2025-06-17 00:00:00 - pressure_an local\n",
      " - Found 2025-06-17 00:00:00 - surface_an local\n",
      "\u001b[94m\u001b[1mDownloading: 2025-06-17 00:00:00 - model_an\u001b[0m \u001b[92m[10-07: 09:56]\u001b[0m\n",
      " - Found previous CDS request!\n",
      " - Request not finished, current status = \"running\"\n",
      " -----------------------------------------------------------\n",
      " | One or more requests are not finished.                  |\n",
      " | For CDS request, you can monitor the progress at:       |\n",
      " | https://cds.climate.copernicus.eu/cdsapp#!/yourrequests |\n",
      " -----------------------------------------------------------\n"
     ]
    }
   ],
   "source": [
    "\"\"\"\n",
    "Different cases from EWED platform.\n",
    "Currently incomplete, the website has some inconsistencies in the dates...\n",
    "\"\"\"\n",
    "# NOTE: start times are rounded down to the nearest full hour for (LS)2D.\n",
    "\n",
    "cases = {}\n",
    "cases['tortosa'] = Fire_case(name='tortosa', lon=0.593460, lat=40.823570, start='2024-05-28T08:00:00', end='2024-05-28T23:00:00', ls2d_path=ls2d_data_path)\n",
    "cases['katsimidi'] = Fire_case(name='katsimidi', lon=23.791808, lat=38.183321, start='2024-06-29T11:00:00', end='2024-06-29T23:00:00', ls2d_path=ls2d_data_path)\n",
    "cases['mequinensa'] = Fire_case(name='mequinensa', lon=0.315670, lat=41.379853, start='2024-07-07T15:00:00', end='2024-07-07T23:00:00', ls2d_path=ls2d_data_path)\n",
    "cases['vilanova-da-meia'] = Fire_case(name='vilanova-da-meia', lon=1.072223, lat=41.947036, start='2024-08-09T13:00:00', end='2024-08-09T23:00:00', ls2d_path=ls2d_data_path)\n",
    "cases['varnavas'] = Fire_case(name='varnavas', lon=23.924421, lat=38.237959, start='2024-08-11T12:00:00', end='2024-08-11T23:00:00', ls2d_path=ls2d_data_path)\n",
    "cases['la-figuera'] = Fire_case(name='la-figuera', lon=0.741027, lat=41.214060, start='2024-07-28T13:00:00', end='2024-07-28T23:00:00', ls2d_path=ls2d_data_path)\n",
    "cases['orista'] = Fire_case(name='orista', lon=2.052567, lat=41.902943, start='2023-10-05T10:00:00', end='2023-10-05T23:00:00', ls2d_path=ls2d_data_path)\n",
    "cases['pont-de-vilomara'] = Fire_case(name='pont-de-vilomara', lon=1.901683, lat=41.686460, start='2022-07-07T11:00:00', end='2022-07-07T23:00:00', ls2d_path=ls2d_data_path)\n",
    "#cases['batea'] = Fire_case(name='batea', lon=0.26582, lat=41.14588, start='', end='', ls2d_path=ls2d_data_path)  # Start date unknown!\n",
    "#cases['rojals'] = Fire_case(name='batea', lon=1.113958, lat=41.363944, start='', end='', ls2d_path=ls2d_data_path)  # Start date 00 UTC??\n",
    "#cases['martorel'] = Fire_case(name='martorel', lon=1.936534, lat=41.46442, start='', end='', ls2d_path=ls2d_data_path)  # Start date 00 UTC??\n",
    "#cases['santa-coloma'] = Fire_case(name='santa-coloma', lon=1.369071, lat=41.52329, start='2025-06-17T17:00:00', end='2025-06-17T23:00:00', ls2d_path=ls2d_data_path)\n",
    "\n",
    "for name, case in cases.items():\n",
    "    case.download()"
   ]
  },
  {
   "cell_type": "code",
   "execution_count": null,
   "metadata": {},
   "outputs": [],
   "source": [
    "\"\"\"\n",
    "Read all cases now that the data is downloaded.\n",
    "\"\"\"\n",
    "for name, case in cases.items():\n",
    "    case.read()"
   ]
  },
  {
   "cell_type": "code",
   "execution_count": null,
   "metadata": {},
   "outputs": [],
   "source": [
    "\"\"\"\n",
    "Plot all cases with dragable mixed-layer profiles.\n",
    "NOTE: if the figures are not interactive, enable `%matplotlib ipympl` at the top above the imports.\n",
    "\"\"\"\n",
    "\n",
    "for name, case in cases.items():\n",
    "    case.plot()"
   ]
  },
  {
   "cell_type": "code",
   "execution_count": null,
   "metadata": {},
   "outputs": [],
   "source": [
    "\"\"\"\n",
    "Write back .json files with tuned mixed-layer profiles.\n",
    "\"\"\"\n",
    "for name, case in cases.items():\n",
    "    case.save_mxl_params()"
   ]
  }
 ],
 "metadata": {
  "kernelspec": {
   "display_name": ".venv",
   "language": "python",
   "name": "python3"
  },
  "language_info": {
   "codemirror_mode": {
    "name": "ipython",
    "version": 3
   },
   "file_extension": ".py",
   "mimetype": "text/x-python",
   "name": "python",
   "nbconvert_exporter": "python",
   "pygments_lexer": "ipython3",
   "version": "3.9.5"
  }
 },
 "nbformat": 4,
 "nbformat_minor": 2
}
